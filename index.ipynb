{
 "cells": [
  {
   "cell_type": "code",
   "execution_count": null,
   "metadata": {},
   "outputs": [],
   "source": [
    "p = int(input('Enter number of processes: '))\n",
    "r = int(input('Enter number of resources: '))\n",
    "array = []\n",
    "claim_array = []\n",
    "for i in range(p):\n",
    "    temp = []\n",
    "    claim = []\n",
    "    for j in range(r):\n",
    "        temp.append(int(input('Enter allocation: ')))\n",
    "        claim.append(int(input('Enter claim: ')))\n",
    "    array.append(temp)\n",
    "    claim_array.append(claim)"
   ]
  },
  {
   "cell_type": "code",
   "execution_count": null,
   "metadata": {},
   "outputs": [],
   "source": [
    "need_array = []\n",
    "for i in range(p):\n",
    "    temp = []\n",
    "    for j in range(r):\n",
    "        temp.append(claim_array[i][j]-array[i][j])\n",
    "    need_array.append(temp)\n",
    "print(array)\n",
    "print(claim_array)\n",
    "print(need_array)"
   ]
  },
  {
   "cell_type": "code",
   "execution_count": null,
   "metadata": {},
   "outputs": [],
   "source": [
    "resources = []\n",
    "for i in range(r):\n",
    "    resources.append(int(input(f'Enter total resource for {i+1}:')))\n",
    "print(resources)"
   ]
  },
  {
   "cell_type": "code",
   "execution_count": null,
   "metadata": {},
   "outputs": [],
   "source": [
    "r_vector = []\n",
    "for i in range(r):\n",
    "    temp = 0\n",
    "    for j in range(p):\n",
    "        temp += array[j][i]\n",
    "    r_vector.append(resources[i]-temp)\n",
    "print(r_vector)"
   ]
  },
  {
   "cell_type": "code",
   "execution_count": null,
   "metadata": {},
   "outputs": [],
   "source": [
    "my_array = ['False' for i in range(p)]\n",
    "while True:\n",
    "    if 'False' in my_array:\n",
    "        for i in range(p):\n",
    "            if my_array[i] == 'False':\n",
    "                if r_vector >= need_array[i]:\n",
    "                    print(f'Process {i+1}')\n",
    "                    for j in range(r):\n",
    "                        r_vector[j] += array[i][j]\n",
    "                    print(f'Available matrix: {r_vector}')\n",
    "                    my_array[i] = 'True'\n",
    "    else:\n",
    "        break"
   ]
  },
  {
   "cell_type": "code",
   "execution_count": null,
   "metadata": {},
   "outputs": [],
   "source": []
  }
 ],
 "metadata": {
  "kernelspec": {
   "display_name": "Python 3",
   "language": "python",
   "name": "python3"
  },
  "language_info": {
   "codemirror_mode": {
    "name": "ipython",
    "version": 3
   },
   "file_extension": ".py",
   "mimetype": "text/x-python",
   "name": "python",
   "nbconvert_exporter": "python",
   "pygments_lexer": "ipython3",
   "version": "3.7.3"
  }
 },
 "nbformat": 4,
 "nbformat_minor": 2
}
